{
 "cells": [
  {
   "cell_type": "code",
   "execution_count": 1,
   "metadata": {},
   "outputs": [
    {
     "name": "stdout",
     "output_type": "stream",
     "text": [
      "Usage: TestClassicalChinaCoin.py -h\n",
      "Usage: TestClassicalChinaCoin.py -r <radius> -s <side> -a <age> -m <material>\n",
      "Usage: TestClassicalChinaCoin.py --radius=<radius> --side=<side> --age=<age> --material <material>\n"
     ]
    }
   ],
   "source": [
    "%run -i 'TestClassicalChinaCoin.py' -h"
   ]
  },
  {
   "cell_type": "code",
   "execution_count": 4,
   "metadata": {},
   "outputs": [
    {
     "name": "stdout",
     "output_type": "stream",
     "text": [
      "Side= 1\n",
      "Radius= 3\n",
      "Material= cupper\n",
      "Age= 600\n",
      "\n",
      "Coin is Valid\n",
      "\n",
      "Side= 2\n",
      "Radius= 5\n",
      "Material= gold\n",
      "Age= 700\n",
      "\n",
      "Coin Destroyed\n",
      "\n",
      "Side= 2\n",
      "Radius= 5\n",
      "Material= gold\n",
      "Age= -1\n"
     ]
    }
   ],
   "source": [
    "%run -i 'TestClassicalChinaCoin.py' -r 3 -s 1 -a 600 -m cupper"
   ]
  },
  {
   "cell_type": "code",
   "execution_count": null,
   "metadata": {},
   "outputs": [],
   "source": []
  }
 ],
 "metadata": {
  "kernelspec": {
   "display_name": "Python 3",
   "language": "python",
   "name": "python3"
  },
  "language_info": {
   "codemirror_mode": {
    "name": "ipython",
    "version": 3
   },
   "file_extension": ".py",
   "mimetype": "text/x-python",
   "name": "python",
   "nbconvert_exporter": "python",
   "pygments_lexer": "ipython3",
   "version": "3.7.4"
  }
 },
 "nbformat": 4,
 "nbformat_minor": 2
}
