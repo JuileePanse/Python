{
 "cells": [
  {
   "cell_type": "code",
   "execution_count": 1,
   "metadata": {},
   "outputs": [
    {
     "name": "stdout",
     "output_type": "stream",
     "text": [
      "Normal Head \n",
      "Num Hair = 100\n",
      "Head Radius = 4\n",
      "Left Eye  Radius = 2\n",
      "Right Eye  Radius = 2\n",
      "Nose:  Side X = 3 Side Y = 3 Side Z = 2\n",
      "Mouth:  Height = 2 Width = 5\n",
      "\n",
      "\n",
      "Abnormal Head \n",
      "Num Hair = 100\n",
      "Head Radius = 4\n",
      "Left Eye  Radius = 2\n",
      "Right Eye  Radius = 3\n",
      "Nose:  Side X = 3 Side Y = 3 Side Z = 2\n",
      "Mouth:  Height = 2 Width = 5\n",
      "\n",
      "Head Ache\n"
     ]
    }
   ],
   "source": [
    "%run -i 'AlienTest.py'"
   ]
  }
 ],
 "metadata": {
  "kernelspec": {
   "display_name": "Python 3",
   "language": "python",
   "name": "python3"
  },
  "language_info": {
   "codemirror_mode": {
    "name": "ipython",
    "version": 3
   },
   "file_extension": ".py",
   "mimetype": "text/x-python",
   "name": "python",
   "nbconvert_exporter": "python",
   "pygments_lexer": "ipython3",
   "version": "3.7.4"
  }
 },
 "nbformat": 4,
 "nbformat_minor": 2
}
