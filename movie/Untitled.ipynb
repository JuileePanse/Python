{
 "cells": [
  {
   "cell_type": "code",
   "execution_count": 1,
   "metadata": {},
   "outputs": [
    {
     "name": "stdout",
     "output_type": "stream",
     "text": [
      "/Users/yogeshwarkulkarni/Juilee/python/movie\n"
     ]
    }
   ],
   "source": [
    "cd /users/yogeshwarkulkarni/juilee/python/movie"
   ]
  },
  {
   "cell_type": "code",
   "execution_count": 6,
   "metadata": {},
   "outputs": [
    {
     "name": "stdout",
     "output_type": "stream",
     "text": [
      "Usage: TestMovie.py -h\n",
      "Usage: TestMovie.py -l <Legs>\n",
      "Usage: TestMovie.py --legs=<Legs>\n"
     ]
    }
   ],
   "source": [
    "%run -i TestMovie.py -h"
   ]
  },
  {
   "cell_type": "code",
   "execution_count": 15,
   "metadata": {},
   "outputs": [
    {
     "name": "stdout",
     "output_type": "stream",
     "text": [
      "Legs = 4\n",
      "Po is not Disabled\n"
     ]
    }
   ],
   "source": [
    "%run -i TestMovie.py -l 4"
   ]
  },
  {
   "cell_type": "code",
   "execution_count": 16,
   "metadata": {},
   "outputs": [
    {
     "name": "stdout",
     "output_type": "stream",
     "text": [
      "Legs = 1\n",
      "Po is Disabled\n"
     ]
    }
   ],
   "source": [
    "%run -i TestMovie.py -l 1"
   ]
  }
 ],
 "metadata": {
  "kernelspec": {
   "display_name": "Python 3",
   "language": "python",
   "name": "python3"
  },
  "language_info": {
   "codemirror_mode": {
    "name": "ipython",
    "version": 3
   },
   "file_extension": ".py",
   "mimetype": "text/x-python",
   "name": "python",
   "nbconvert_exporter": "python",
   "pygments_lexer": "ipython3",
   "version": "3.7.4"
  }
 },
 "nbformat": 4,
 "nbformat_minor": 2
}
